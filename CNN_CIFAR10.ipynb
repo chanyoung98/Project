{
  "nbformat": 4,
  "nbformat_minor": 0,
  "metadata": {
    "colab": {
      "provenance": []
    },
    "kernelspec": {
      "name": "python3",
      "display_name": "Python 3"
    },
    "language_info": {
      "name": "python"
    }
  },
  "cells": [
    {
      "cell_type": "markdown",
      "source": [
        "데이터셋이 순수 이미지 데이터라면?"
      ],
      "metadata": {
        "id": "XKXv9RyjUPNT"
      }
    },
    {
      "cell_type": "code",
      "source": [
        "import os\n",
        "import torch\n",
        "from torch.utils.data import DataLoader, Dataset\n",
        "from torchvision import transforms\n",
        "from sklearn.model_selection import train_test_split\n",
        "from PIL import Image\n",
        "\n",
        "# 이미지 데이터셋 경로\n",
        "image_paths = ['./path/to/images/' + x for x in os.listdir('./path/to/images/')]\n",
        "\n",
        "# 데이터셋을 학습용과 테스트용으로 분할\n",
        "train_paths, test_paths = train_test_split(image_paths, test_size=0.2, random_state=42)\n",
        "\n",
        "# 이미지 전처리를 위한 변환 정의\n",
        "transform = transforms.Compose([\n",
        "    transforms.Resize((224, 224)),  # 이미지 사이즈 조정\n",
        "    transforms.ToTensor(),          # 이미지를 텐서로 변환\n",
        "    transforms.Normalize(mean=[0.485, 0.456, 0.406], std=[0.229, 0.224, 0.225])  # 정규화\n",
        "])\n",
        "\n",
        "# 사용자 정의 데이터셋 클래스\n",
        "class CustomDataset(Dataset):\n",
        "    def __init__(self, image_paths, transform=None):\n",
        "        self.image_paths = image_paths\n",
        "        self.transform = transform\n",
        "\n",
        "    def __len__(self):\n",
        "        return len(self.image_paths)\n",
        "\n",
        "    def __getitem__(self, index):\n",
        "        image_path = self.image_paths[index]\n",
        "        image = Image.open(image_path).convert('RGB')  # 이미지를 RGB로 변환\n",
        "        if self.transform:\n",
        "            image = self.transform(image)\n",
        "        return image\n",
        "\n",
        "# 데이터셋 객체 생성\n",
        "train_dataset = CustomDataset(train_paths, transform=transform)\n",
        "test_dataset = CustomDataset(test_paths, transform=transform)\n",
        "\n",
        "# DataLoader 객체 생성\n",
        "trainloader = DataLoader(train_dataset, batch_size=64, shuffle=True, num_workers=4)\n",
        "testloader = DataLoader(test_dataset, batch_size=64, shuffle=False, num_workers=4)\n"
      ],
      "metadata": {
        "colab": {
          "base_uri": "https://localhost:8080/",
          "height": 219
        },
        "id": "UwTzxVoDUSlf",
        "outputId": "f67e2261-aa40-4483-8a5b-daa207f6c107"
      },
      "execution_count": 3,
      "outputs": [
        {
          "output_type": "error",
          "ename": "FileNotFoundError",
          "evalue": "[Errno 2] No such file or directory: './path/to/images/'",
          "traceback": [
            "\u001b[0;31m---------------------------------------------------------------------------\u001b[0m",
            "\u001b[0;31mFileNotFoundError\u001b[0m                         Traceback (most recent call last)",
            "\u001b[0;32m<ipython-input-3-f2b651c9e450>\u001b[0m in \u001b[0;36m<cell line: 9>\u001b[0;34m()\u001b[0m\n\u001b[1;32m      7\u001b[0m \u001b[0;34m\u001b[0m\u001b[0m\n\u001b[1;32m      8\u001b[0m \u001b[0;31m# 이미지 데이터셋 경로\u001b[0m\u001b[0;34m\u001b[0m\u001b[0;34m\u001b[0m\u001b[0m\n\u001b[0;32m----> 9\u001b[0;31m \u001b[0mimage_paths\u001b[0m \u001b[0;34m=\u001b[0m \u001b[0;34m[\u001b[0m\u001b[0;34m'./path/to/images/'\u001b[0m \u001b[0;34m+\u001b[0m \u001b[0mx\u001b[0m \u001b[0;32mfor\u001b[0m \u001b[0mx\u001b[0m \u001b[0;32min\u001b[0m \u001b[0mos\u001b[0m\u001b[0;34m.\u001b[0m\u001b[0mlistdir\u001b[0m\u001b[0;34m(\u001b[0m\u001b[0;34m'./path/to/images/'\u001b[0m\u001b[0;34m)\u001b[0m\u001b[0;34m]\u001b[0m\u001b[0;34m\u001b[0m\u001b[0;34m\u001b[0m\u001b[0m\n\u001b[0m\u001b[1;32m     10\u001b[0m \u001b[0;34m\u001b[0m\u001b[0m\n\u001b[1;32m     11\u001b[0m \u001b[0;31m# 데이터셋을 학습용과 테스트용으로 분할\u001b[0m\u001b[0;34m\u001b[0m\u001b[0;34m\u001b[0m\u001b[0m\n",
            "\u001b[0;31mFileNotFoundError\u001b[0m: [Errno 2] No such file or directory: './path/to/images/'"
          ]
        }
      ]
    },
    {
      "cell_type": "markdown",
      "source": [
        "# Dataset load"
      ],
      "metadata": {
        "id": "2CUA397HRVEU"
      }
    },
    {
      "cell_type": "code",
      "execution_count": 1,
      "metadata": {
        "colab": {
          "base_uri": "https://localhost:8080/"
        },
        "id": "oIB1SiH9NG1t",
        "outputId": "24f29246-7c9e-4161-bdaa-6da556ec4f48"
      },
      "outputs": [
        {
          "output_type": "stream",
          "name": "stdout",
          "text": [
            "Downloading https://www.cs.toronto.edu/~kriz/cifar-10-python.tar.gz to ./data/cifar-10-python.tar.gz\n"
          ]
        },
        {
          "output_type": "stream",
          "name": "stderr",
          "text": [
            "100%|██████████| 170498071/170498071 [00:03<00:00, 45244790.32it/s]\n"
          ]
        },
        {
          "output_type": "stream",
          "name": "stdout",
          "text": [
            "Extracting ./data/cifar-10-python.tar.gz to ./data\n",
            "Files already downloaded and verified\n"
          ]
        }
      ],
      "source": [
        "import torch\n",
        "import torchvision\n",
        "import torchvision.transforms as transforms\n",
        "import torch.nn as nn\n",
        "import torch.nn.functional as F\n",
        "\n",
        "transform = transforms.Compose(\n",
        "    [transforms.ToTensor(),\n",
        "     transforms.Normalize((0.5, 0.5, 0.5), (0.5, 0.5, 0.5))])\n",
        "#transforms.Normalize(mean, std)\n",
        "#각 채널 RGB에 대한 mean, std라서 각 3개씩\n",
        "\n",
        "batch_size = 4\n",
        "\n",
        "#num_workers : 병렬 프로세스 수\n",
        "trainset = torchvision.datasets.CIFAR10(root = './data', train = True, download = True, transform = transform)\n",
        "trainloader = torch.utils.data.DataLoader(trainset, batch_size = batch_size, shuffle = True, num_workers = 2)\n",
        "\n",
        "testset = torchvision.datasets.CIFAR10(root = './data', train = False, download = True, transform = transform)\n",
        "testloader = torch.utils.data.DataLoader(testset, batch_size = batch_size, shuffle = False, num_workers =2)\n",
        "\n",
        "classes = ('plane', 'car','bird', 'cat', 'deer', 'dog', 'frog', 'horse', 'ship', 'truck')"
      ]
    },
    {
      "cell_type": "markdown",
      "source": [
        "check several samples from the training set"
      ],
      "metadata": {
        "id": "62su6Gh-RT0M"
      }
    },
    {
      "cell_type": "code",
      "source": [
        "import matplotlib.pyplot as plt\n",
        "import numpy as np\n",
        "\n",
        "#functions to show an image\n",
        "\n",
        "def imshow(img):\n",
        "  img = img / 2 + 0.5 #[-1,1]로 정규화된 데이터 다시 비정규화[0,1]\n",
        "  npimg = img.numpy()\n",
        "  plt.imshow(np.transpose(npimg, (1,2,0))) #(채널, 높이, 너비) 형식으로 저장\n",
        "  plt.show()"
      ],
      "metadata": {
        "id": "nfLzPUa8QxnE"
      },
      "execution_count": null,
      "outputs": []
    },
    {
      "cell_type": "code",
      "source": [
        "# 이제 반복자로부터 데이터를 가져와 확인해 보세요.\n",
        "dataiter = iter(trainloader)\n",
        "for images, labels in dataiter:\n",
        "    imshow(torchvision.utils.make_grid(images))\n",
        "    print(''.join('%5s'%classes[labels[j]] for j in range(batch_size)))\n",
        "    break  # 첫 번째 배치만 확인하고 루프를 멈춥니다."
      ],
      "metadata": {
        "colab": {
          "base_uri": "https://localhost:8080/",
          "height": 211
        },
        "id": "wFJsWp_lpAf2",
        "outputId": "917f3a2e-5e55-4a28-f271-1da9787411da"
      },
      "execution_count": null,
      "outputs": [
        {
          "output_type": "display_data",
          "data": {
            "text/plain": [
              "<Figure size 640x480 with 1 Axes>"
            ],
            "image/png": "[encoded data removed]"
          },
          "metadata": {}
        },
        {
          "output_type": "stream",
          "name": "stdout",
          "text": [
            "horse deer  cat  cat\n"
          ]
        }
      ]
    },
    {
      "cell_type": "markdown",
      "source": [
        "# Decine a Convolutional Neural Network"
      ],
      "metadata": {
        "id": "bZEJFUTgSe9l"
      }
    },
    {
      "cell_type": "code",
      "source": [
        "for image, label in trainloader:\n",
        "  print(\"이미지 크기 : \", image.size())\n",
        "  print(\"라벨 크기(배치 개수랑 같아야 됨) : \", label.size())\n",
        "  break"
      ],
      "metadata": {
        "colab": {
          "base_uri": "https://localhost:8080/"
        },
        "id": "bsM8yutXVzM7",
        "outputId": "180a4e18-a28b-4ec5-cbb5-9a94c817b732"
      },
      "execution_count": null,
      "outputs": [
        {
          "output_type": "stream",
          "name": "stdout",
          "text": [
            "이미지 크기 :  torch.Size([4, 3, 32, 32])\n",
            "라벨 크기(배치 개수랑 같아야 됨) :  torch.Size([4])\n"
          ]
        }
      ]
    },
    {
      "cell_type": "code",
      "source": [
        "nn.Conv2d"
      ],
      "metadata": {
        "colab": {
          "base_uri": "https://localhost:8080/",
          "height": 186
        },
        "id": "46DCZQPiSGDw",
        "outputId": "a8979e0e-daf0-47f6-b447-2fa7b2208e6c"
      },
      "execution_count": null,
      "outputs": [
        {
          "output_type": "execute_result",
          "data": {
            "text/plain": [
              "torch.nn.modules.conv.Conv2d"
            ],
            "text/html": [
              "<div style=\"max-width:800px; border: 1px solid var(--colab-border-color);\"><style>\n",
              "      pre.function-repr-contents {\n",
              "        overflow-x: auto;\n",
              "        padding: 8px 12px;\n",
              "        max-height: 500px;\n",
              "      }\n",
              "\n",
              "      pre.function-repr-contents.function-repr-contents-collapsed {\n",
              "        cursor: pointer;\n",
              "        max-height: 100px;\n",
              "      }\n",
              "    </style>\n",
              "    <pre style=\"white-space: initial; background:\n",
              "         var(--colab-secondary-surface-color); padding: 8px 12px;\n",
              "         border-bottom: 1px solid var(--colab-border-color);\"><b>torch.nn.modules.conv.Conv2d</b><br/>def _wrapped_call_impl(*args, **kwargs)</pre><pre class=\"function-repr-contents function-repr-contents-collapsed\" style=\"\"><a class=\"filepath\" style=\"display:none\" href=\"#\">/usr/local/lib/python3.10/dist-packages/torch/nn/modules/conv.py</a>Applies a 2D convolution over an input signal composed of several input\n",
              "planes.\n",
              "\n",
              "In the simplest case, the output value of the layer with input size\n",
              ":math:`(N, C_{\\text{in}}, H, W)` and output :math:`(N, C_{\\text{out}}, H_{\\text{out}}, W_{\\text{out}})`\n",
              "can be precisely described as:\n",
              "\n",
              ".. math::\n",
              "    \\text{out}(N_i, C_{\\text{out}_j}) = \\text{bias}(C_{\\text{out}_j}) +\n",
              "    \\sum_{k = 0}^{C_{\\text{in}} - 1} \\text{weight}(C_{\\text{out}_j}, k) \\star \\text{input}(N_i, k)\n",
              "\n",
              "\n",
              "where :math:`\\star` is the valid 2D `cross-correlation`_ operator,\n",
              ":math:`N` is a batch size, :math:`C` denotes a number of channels,\n",
              ":math:`H` is a height of input planes in pixels, and :math:`W` is\n",
              "width in pixels.\n",
              "\n",
              "\n",
              "This module supports :ref:`TensorFloat32&lt;tf32_on_ampere&gt;`.\n",
              "\n",
              "On certain ROCm devices, when using float16 inputs this module will use :ref:`different precision&lt;fp16_on_mi200&gt;` for backward.\n",
              "\n",
              "* :attr:`stride` controls the stride for the cross-correlation, a single\n",
              "  number or a tuple.\n",
              "\n",
              "* :attr:`padding` controls the amount of padding applied to the input. It\n",
              "  can be either a string {&#x27;valid&#x27;, &#x27;same&#x27;} or an int / a tuple of ints giving the\n",
              "  amount of implicit padding applied on both sides.\n",
              "\n",
              "* :attr:`dilation` controls the spacing between the kernel points; also\n",
              "  known as the à trous algorithm. It is harder to describe, but this `link`_\n",
              "  has a nice visualization of what :attr:`dilation` does.\n",
              "\n",
              "* :attr:`groups` controls the connections between inputs and outputs.\n",
              "  :attr:`in_channels` and :attr:`out_channels` must both be divisible by\n",
              "  :attr:`groups`. For example,\n",
              "\n",
              "    * At groups=1, all inputs are convolved to all outputs.\n",
              "    * At groups=2, the operation becomes equivalent to having two conv\n",
              "      layers side by side, each seeing half the input channels\n",
              "      and producing half the output channels, and both subsequently\n",
              "      concatenated.\n",
              "    * At groups= :attr:`in_channels`, each input channel is convolved with\n",
              "      its own set of filters (of size\n",
              "      :math:`\\frac{\\text{out\\_channels}}{\\text{in\\_channels}}`).\n",
              "\n",
              "The parameters :attr:`kernel_size`, :attr:`stride`, :attr:`padding`, :attr:`dilation` can either be:\n",
              "\n",
              "    - a single ``int`` -- in which case the same value is used for the height and width dimension\n",
              "    - a ``tuple`` of two ints -- in which case, the first `int` is used for the height dimension,\n",
              "      and the second `int` for the width dimension\n",
              "\n",
              "Note:\n",
              "    When `groups == in_channels` and `out_channels == K * in_channels`,\n",
              "    where `K` is a positive integer, this operation is also known as a &quot;depthwise convolution&quot;.\n",
              "\n",
              "    In other words, for an input of size :math:`(N, C_{in}, L_{in})`,\n",
              "    a depthwise convolution with a depthwise multiplier `K` can be performed with the arguments\n",
              "    :math:`(C_\\text{in}=C_\\text{in}, C_\\text{out}=C_\\text{in} \\times \\text{K}, ..., \\text{groups}=C_\\text{in})`.\n",
              "\n",
              "Note:\n",
              "    In some circumstances when given tensors on a CUDA device and using CuDNN, this operator may select a nondeterministic algorithm to increase performance. If this is undesirable, you can try to make the operation deterministic (potentially at a performance cost) by setting ``torch.backends.cudnn.deterministic = True``. See :doc:`/notes/randomness` for more information.\n",
              "\n",
              "Note:\n",
              "    ``padding=&#x27;valid&#x27;`` is the same as no padding. ``padding=&#x27;same&#x27;`` pads\n",
              "    the input so the output has the shape as the input. However, this mode\n",
              "    doesn&#x27;t support any stride values other than 1.\n",
              "\n",
              "Note:\n",
              "    This module supports complex data types i.e. ``complex32, complex64, complex128``.\n",
              "\n",
              "Args:\n",
              "    in_channels (int): Number of channels in the input image\n",
              "    out_channels (int): Number of channels produced by the convolution\n",
              "    kernel_size (int or tuple): Size of the convolving kernel\n",
              "    stride (int or tuple, optional): Stride of the convolution. Default: 1\n",
              "    padding (int, tuple or str, optional): Padding added to all four sides of\n",
              "        the input. Default: 0\n",
              "    padding_mode (str, optional): ``&#x27;zeros&#x27;``, ``&#x27;reflect&#x27;``,\n",
              "        ``&#x27;replicate&#x27;`` or ``&#x27;circular&#x27;``. Default: ``&#x27;zeros&#x27;``\n",
              "    dilation (int or tuple, optional): Spacing between kernel elements. Default: 1\n",
              "    groups (int, optional): Number of blocked connections from input\n",
              "        channels to output channels. Default: 1\n",
              "    bias (bool, optional): If ``True``, adds a learnable bias to the\n",
              "        output. Default: ``True``\n",
              "\n",
              "\n",
              "Shape:\n",
              "    - Input: :math:`(N, C_{in}, H_{in}, W_{in})` or :math:`(C_{in}, H_{in}, W_{in})`\n",
              "    - Output: :math:`(N, C_{out}, H_{out}, W_{out})` or :math:`(C_{out}, H_{out}, W_{out})`, where\n",
              "\n",
              "      .. math::\n",
              "          H_{out} = \\left\\lfloor\\frac{H_{in}  + 2 \\times \\text{padding}[0] - \\text{dilation}[0]\n",
              "                    \\times (\\text{kernel\\_size}[0] - 1) - 1}{\\text{stride}[0]} + 1\\right\\rfloor\n",
              "\n",
              "      .. math::\n",
              "          W_{out} = \\left\\lfloor\\frac{W_{in}  + 2 \\times \\text{padding}[1] - \\text{dilation}[1]\n",
              "                    \\times (\\text{kernel\\_size}[1] - 1) - 1}{\\text{stride}[1]} + 1\\right\\rfloor\n",
              "\n",
              "Attributes:\n",
              "    weight (Tensor): the learnable weights of the module of shape\n",
              "        :math:`(\\text{out\\_channels}, \\frac{\\text{in\\_channels}}{\\text{groups}},`\n",
              "        :math:`\\text{kernel\\_size[0]}, \\text{kernel\\_size[1]})`.\n",
              "        The values of these weights are sampled from\n",
              "        :math:`\\mathcal{U}(-\\sqrt{k}, \\sqrt{k})` where\n",
              "        :math:`k = \\frac{groups}{C_\\text{in} * \\prod_{i=0}^{1}\\text{kernel\\_size}[i]}`\n",
              "    bias (Tensor):   the learnable bias of the module of shape\n",
              "        (out_channels). If :attr:`bias` is ``True``,\n",
              "        then the values of these weights are\n",
              "        sampled from :math:`\\mathcal{U}(-\\sqrt{k}, \\sqrt{k})` where\n",
              "        :math:`k = \\frac{groups}{C_\\text{in} * \\prod_{i=0}^{1}\\text{kernel\\_size}[i]}`\n",
              "\n",
              "Examples:\n",
              "\n",
              "    &gt;&gt;&gt; # With square kernels and equal stride\n",
              "    &gt;&gt;&gt; m = nn.Conv2d(16, 33, 3, stride=2)\n",
              "    &gt;&gt;&gt; # non-square kernels and unequal stride and with padding\n",
              "    &gt;&gt;&gt; m = nn.Conv2d(16, 33, (3, 5), stride=(2, 1), padding=(4, 2))\n",
              "    &gt;&gt;&gt; # non-square kernels and unequal stride and with padding and dilation\n",
              "    &gt;&gt;&gt; m = nn.Conv2d(16, 33, (3, 5), stride=(2, 1), padding=(4, 2), dilation=(3, 1))\n",
              "    &gt;&gt;&gt; input = torch.randn(20, 16, 50, 100)\n",
              "    &gt;&gt;&gt; output = m(input)\n",
              "\n",
              ".. _cross-correlation:\n",
              "    https://en.wikipedia.org/wiki/Cross-correlation\n",
              "\n",
              ".. _link:\n",
              "    https://github.com/vdumoulin/conv_arithmetic/blob/master/README.md</pre>\n",
              "      <script>\n",
              "      if (google.colab.kernel.accessAllowed && google.colab.files && google.colab.files.view) {\n",
              "        for (const element of document.querySelectorAll('.filepath')) {\n",
              "          element.style.display = 'block'\n",
              "          element.onclick = (event) => {\n",
              "            event.preventDefault();\n",
              "            event.stopPropagation();\n",
              "            google.colab.files.view(element.textContent, 313);\n",
              "          };\n",
              "        }\n",
              "      }\n",
              "      for (const element of document.querySelectorAll('.function-repr-contents')) {\n",
              "        element.onclick = (event) => {\n",
              "          event.preventDefault();\n",
              "          event.stopPropagation();\n",
              "          element.classList.toggle('function-repr-contents-collapsed');\n",
              "        };\n",
              "      }\n",
              "      </script>\n",
              "      </div>"
            ]
          },
          "metadata": {},
          "execution_count": 24
        }
      ]
    },
    {
      "cell_type": "code",
      "source": [
        "import torch.nn as nn\n",
        "import torch.nn.functional as F\n",
        "\n",
        "\n",
        "class Net(nn.Module):\n",
        "  def __init__(self):\n",
        "    super().__init__()\n",
        "    self.conv1 = nn.Conv2d(3,6,5)\n",
        "    self.conv2 = nn.Conv2d(6,16,5)\n",
        "    self.pool = nn.MaxPool2d(2,2)\n",
        "    self.f1 = nn.Linear(16*5*5, 120)\n",
        "    self.f2 = nn.Linear(120, 84)\n",
        "    self.f3 = nn.Linear(84, 10) #최종 10개 클래스\n",
        "\n",
        "  def forward(self, x): #input : 3x32x32\n",
        "    x = self.pool(F.relu(self.conv1(x))) #6,14,14\n",
        "    x = self.pool(F.relu(self.conv2(x))) #16, 5, 5\n",
        "    x = torch.flatten(x, 1) #flatten al dimensions except batch\n",
        "    x = F.relu(self.f1(x))\n",
        "    x = F.relu(self.f2(x))\n",
        "    x = self.f3(x) #마지막에는 relu x\n",
        "    return x\n",
        "\n",
        "net = Net()"
      ],
      "metadata": {
        "id": "udNx_vSzTjEr"
      },
      "execution_count": null,
      "outputs": []
    },
    {
      "cell_type": "markdown",
      "source": [
        "# Define a loss function and optimizer"
      ],
      "metadata": {
        "id": "8g0aB3deb6dG"
      }
    },
    {
      "cell_type": "code",
      "source": [
        "import torch.optim as optim\n",
        "\n",
        "criterion = nn.CrossEntropyLoss()\n",
        "optimizer = optim.AdamW(net.parameters(), lr=0.001, weight_decay=1e-2)\n"
      ],
      "metadata": {
        "id": "4YxaAfPvSGF-"
      },
      "execution_count": null,
      "outputs": []
    },
    {
      "cell_type": "markdown",
      "source": [
        "# Train the network"
      ],
      "metadata": {
        "id": "UkhID0z8b3cR"
      }
    },
    {
      "cell_type": "code",
      "source": [
        "net.train()\n",
        "\n",
        "for epoch in range(3): #loop over the dataset multiple times\n",
        "  running_loss = 0.0\n",
        "  for i, data in enumerate(trainloader, 0):\n",
        "    #get the inputs; data is a list of [inputs, labels]\n",
        "    inputs, labels = data\n",
        "\n",
        "    optimizer.zero_grad() #zero the parameter gradients\n",
        "\n",
        "    outputs = net(inputs)\n",
        "    loss = criterion(outputs, labels)\n",
        "    loss.backward()\n",
        "    optimizer.step()\n",
        "\n",
        "    #print statistics\n",
        "    running_loss += loss.item()\n",
        "    if i % 2000 == 1999: #print every 2000 mini-batches\n",
        "      print('[%d, %5d] loss: %3f'%\n",
        "            (epoch + 1, i+1, running_loss / 2000))\n",
        "      running_loss = 0.0\n"
      ],
      "metadata": {
        "colab": {
          "base_uri": "https://localhost:8080/"
        },
        "id": "3Uz_2S3bXnlS",
        "outputId": "01f8099b-2608-479d-db60-39576a179c60"
      },
      "execution_count": null,
      "outputs": [
        {
          "output_type": "stream",
          "name": "stdout",
          "text": [
            "[1,  2000] loss: 1.862988\n",
            "[1,  4000] loss: 1.602810\n",
            "[1,  6000] loss: 1.522008\n",
            "[1,  8000] loss: 1.477132\n",
            "[1, 10000] loss: 1.421722\n",
            "[1, 12000] loss: 1.409493\n",
            "[2,  2000] loss: 1.324704\n",
            "[2,  4000] loss: 1.312454\n",
            "[2,  6000] loss: 1.286886\n",
            "[2,  8000] loss: 1.288663\n",
            "[2, 10000] loss: 1.275275\n",
            "[2, 12000] loss: 1.266652\n"
          ]
        }
      ]
    },
    {
      "cell_type": "markdown",
      "source": [
        "adamw : 1.26652"
      ],
      "metadata": {
        "id": "BqEjXMeIsYDo"
      }
    },
    {
      "cell_type": "code",
      "source": [],
      "metadata": {
        "id": "BxO2JpAssXsr"
      },
      "execution_count": null,
      "outputs": []
    },
    {
      "cell_type": "markdown",
      "source": [
        "# Test the network on the test data\n",
        "\n",
        "Performance test on some specific samples"
      ],
      "metadata": {
        "id": "7y4AYJMOb-O7"
      }
    },
    {
      "cell_type": "markdown",
      "source": [
        "The volume depth of output is preserved"
      ],
      "metadata": {
        "id": "0iDOkUprcGda"
      }
    },
    {
      "cell_type": "code",
      "source": [
        "dataiter = iter(testloader)\n",
        "\n",
        "try:\n",
        "    images, labels = next(iter(testloader))\n",
        "    # 원하는 작업 수행\n",
        "except StopIteration:\n",
        "    pass  # 더 이상의 데이터가 없을 때 처리할 내용# 모델을 평가 모드로 설정합니다.\n",
        "\n",
        "net.eval()\n",
        "\n",
        "correct = 0\n",
        "total = 0\n",
        "# 테스트 시에는 기울기를 계산할 필요가 없으므로, no_grad()를 사용합니다.\n",
        "with torch.no_grad():\n",
        "    for images, labels in testloader:\n",
        "        # 모델에 이미지를 전달하여 출력을 계산합니다.\n",
        "        outputs = net(images)\n",
        "        # 가장 높은 값(에너지)을 가진 분류를 선택합니다.\n",
        "        _, predicted = torch.max(outputs.data, 1)\n",
        "        total += labels.size(0)\n",
        "        correct += (predicted == labels).sum().item()\n",
        "\n",
        "# 전체 테스트 데이터셋에 대한 모델의 정확도를 출력합니다.\n",
        "print('Accuracy of the network on the 10000 test images: %d %%' % (\n",
        "    100 * correct / total))\n"
      ],
      "metadata": {
        "id": "VmJ7GlIabsY8",
        "colab": {
          "base_uri": "https://localhost:8080/"
        },
        "outputId": "34158943-bb50-4c0d-e2b7-4f8f7c40d639"
      },
      "execution_count": null,
      "outputs": [
        {
          "output_type": "stream",
          "name": "stdout",
          "text": [
            "Accuracy of the network on the 10000 test images: 56 %\n"
          ]
        }
      ]
    },
    {
      "cell_type": "code",
      "source": [
        "#print images\n",
        "imshow(torchvision.utils.make_grid(images))\n",
        "print('GroundTruth: ', ''.join('%5s'%classes[labels[j]] for j in range(4)))"
      ],
      "metadata": {
        "colab": {
          "base_uri": "https://localhost:8080/",
          "height": 211
        },
        "id": "AyfK7qFtcW2P",
        "outputId": "2d26ca5b-060b-47c7-e318-398887769bbc"
      },
      "execution_count": null,
      "outputs": [
        {
          "output_type": "display_data",
          "data": {
            "text/plain": [
              "<Figure size 640x480 with 1 Axes>"
            ],
            "image/png": "[encoded data removed]"
          },
          "metadata": {}
        },
        {
          "output_type": "stream",
          "name": "stdout",
          "text": [
            "GroundTruth:    cat  dog  carhorse\n"
          ]
        }
      ]
    },
    {
      "cell_type": "code",
      "source": [
        "# 모델을 평가 모드로 설정합니다.\n",
        "net.eval()\n",
        "\n",
        "correct = 0\n",
        "total = 0\n",
        "# 테스트 시에는 기울기를 계산할 필요가 없으므로, no_grad()를 사용합니다.\n",
        "with torch.no_grad():\n",
        "    for images, labels in testloader:\n",
        "        # 모델에 이미지를 전달하여 출력을 계산합니다.\n",
        "        outputs = net(images)\n",
        "        # 가장 높은 값(에너지)을 가진 분류를 선택합니다.\n",
        "        _, predicted = torch.max(outputs.data, 1)\n",
        "        total += labels.size(0)\n",
        "        correct += (predicted == labels).sum().item()\n",
        "\n",
        "# 전체 테스트 데이터셋에 대한 모델의 정확도를 출력합니다.\n",
        "print('Accuracy of the network on the 10000 test images: %d %%' % (\n",
        "    100 * correct / total))\n"
      ],
      "metadata": {
        "id": "C__MN_DneA4l",
        "colab": {
          "base_uri": "https://localhost:8080/"
        },
        "outputId": "9efab191-01e6-40a6-bc33-24f5cf6adfa2"
      },
      "execution_count": null,
      "outputs": [
        {
          "output_type": "stream",
          "name": "stdout",
          "text": [
            "Accuracy of the network on the 10000 test images: 56 %\n"
          ]
        }
      ]
    },
    {
      "cell_type": "code",
      "source": [],
      "metadata": {
        "id": "1n5mKyHXmcS1"
      },
      "execution_count": null,
      "outputs": []
    }
  ]
}